{
  "nbformat": 4,
  "nbformat_minor": 0,
  "metadata": {
    "colab": {
      "provenance": []
    },
    "kernelspec": {
      "name": "python3",
      "display_name": "Python 3"
    },
    "language_info": {
      "name": "python"
    }
  },
  "cells": [
    {
      "cell_type": "markdown",
      "source": [
        "**Problem 5: List Manipulation**\n",
        "\n",
        "Here we are going to write a program which does the following:\n",
        "\n",
        "*   Remove all odd numbers\n",
        "\n",
        "*   Double every remaining number\n",
        "\n",
        "*  Sum all the modified numbers\n",
        "\n",
        "\n",
        "\n",
        "\n"
      ],
      "metadata": {
        "id": "82pyw5b6L0xy"
      }
    },
    {
      "cell_type": "code",
      "execution_count": 19,
      "metadata": {
        "id": "fXk6nLhXLopg"
      },
      "outputs": [],
      "source": [
        "def listmanipulator(list):\n",
        "  list1 = [num for num in list if num % 2 == 0]\n",
        "  list2= [num*2 for num in list1]\n",
        "  total = sum(list2)\n",
        "  return list1,list2,total\n",
        "\n"
      ]
    },
    {
      "cell_type": "code",
      "source": [
        "#use case\n",
        "list=[13,14,114,1415,141414,151]\n",
        "listmanipulator(list)"
      ],
      "metadata": {
        "colab": {
          "base_uri": "https://localhost:8080/"
        },
        "id": "uxoNczV1NNKb",
        "outputId": "84568f96-6eda-4f42-a4c1-e69dc4303b9d"
      },
      "execution_count": 20,
      "outputs": [
        {
          "output_type": "execute_result",
          "data": {
            "text/plain": [
              "([14, 114, 141414], [28, 228, 282828], 283084)"
            ]
          },
          "metadata": {},
          "execution_count": 20
        }
      ]
    }
  ]
}