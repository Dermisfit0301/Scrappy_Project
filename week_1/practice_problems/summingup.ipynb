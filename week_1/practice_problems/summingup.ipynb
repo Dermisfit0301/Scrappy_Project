{
  "nbformat": 4,
  "nbformat_minor": 0,
  "metadata": {
    "colab": {
      "provenance": []
    },
    "kernelspec": {
      "name": "python3",
      "display_name": "Python 3"
    },
    "language_info": {
      "name": "python"
    }
  },
  "cells": [
    {
      "cell_type": "markdown",
      "source": [
        "**Problem 1: Add two numbers**\n",
        "\n",
        "This is a simple python program that takes two numbers as input and adds them. The program also prints the sum of the two numbers."
      ],
      "metadata": {
        "id": "yEhjvydE_-k8"
      }
    },
    {
      "cell_type": "code",
      "execution_count": 6,
      "metadata": {
        "id": "vMGU6cUK8Pl7"
      },
      "outputs": [],
      "source": [
        "def summingup():\n",
        "  requestnum1=input('input a number:')\n",
        "  requestnum2=input('input another number:')\n",
        "  if not (requestnum1.isdigit() and requestnum2.isdigit()):\n",
        "    print('if you dont put a number you are gay!')\n",
        "  else:\n",
        "    return int(requestnum1)+int(requestnum2)"
      ]
    },
    {
      "cell_type": "code",
      "source": [
        "#use case\n",
        "summingup()"
      ],
      "metadata": {
        "colab": {
          "base_uri": "https://localhost:8080/"
        },
        "id": "i9WEGHzyA7A6",
        "outputId": "fc982dac-a79c-467b-f4e8-34671eb2f529"
      },
      "execution_count": 8,
      "outputs": [
        {
          "output_type": "stream",
          "name": "stdout",
          "text": [
            "input a number:ishan\n",
            "input another number:ishan\n",
            "if you dont put a number you are gay!\n"
          ]
        }
      ]
    }
  ]
}