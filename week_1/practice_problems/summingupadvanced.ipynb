{
  "nbformat": 4,
  "nbformat_minor": 0,
  "metadata": {
    "colab": {
      "provenance": []
    },
    "kernelspec": {
      "name": "python3",
      "display_name": "Python 3"
    },
    "language_info": {
      "name": "python"
    }
  },
  "cells": [
    {
      "cell_type": "markdown",
      "source": [
        "**Problem 2: Add n numbers**\n",
        "\n",
        "We are making a program that takes any amount of numbers and returns the sum to the user."
      ],
      "metadata": {
        "id": "djdkqk9kDHPk"
      }
    },
    {
      "cell_type": "code",
      "execution_count": 9,
      "metadata": {
        "id": "2oy5X5CYCrY-"
      },
      "outputs": [],
      "source": [
        "def summingupadvanced(*args):\n",
        "  total=0\n",
        "  for arg in args:\n",
        "    total+=arg\n",
        "  return total\n",
        "\n",
        "\n"
      ]
    },
    {
      "cell_type": "code",
      "source": [
        "#use case\n",
        "summingupadvanced(13,14,1,12,1415,12314)"
      ],
      "metadata": {
        "colab": {
          "base_uri": "https://localhost:8080/"
        },
        "id": "JEMKez7wEVS6",
        "outputId": "832c6cca-6ba3-467f-fdab-9389a81c36f9"
      },
      "execution_count": 10,
      "outputs": [
        {
          "output_type": "execute_result",
          "data": {
            "text/plain": [
              "13769"
            ]
          },
          "metadata": {},
          "execution_count": 10
        }
      ]
    }
  ]
}