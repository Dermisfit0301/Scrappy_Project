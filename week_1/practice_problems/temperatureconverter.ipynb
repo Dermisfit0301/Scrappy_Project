{
  "nbformat": 4,
  "nbformat_minor": 0,
  "metadata": {
    "colab": {
      "provenance": []
    },
    "kernelspec": {
      "name": "python3",
      "display_name": "Python 3"
    },
    "language_info": {
      "name": "python"
    }
  },
  "cells": [
    {
      "cell_type": "markdown",
      "source": [
        "**Problem 4: Temperature converter**\n",
        "\n",
        "Here we are going to build a temperature converter that can convert between Celsius and Fahrenheit. It will take two arguments: The number and the unit to convert into."
      ],
      "metadata": {
        "id": "jxVl18VyJwCM"
      }
    },
    {
      "cell_type": "code",
      "execution_count": 1,
      "metadata": {
        "id": "f-wKUPqpJq5n"
      },
      "outputs": [],
      "source": [
        "def tempconverter(num,unit):\n",
        "  if unit == 'C':\n",
        "    return (num - 32) * 5/9\n",
        "  elif unit == 'F':\n",
        "    return (num * 9/5) + 32\n",
        "  else:\n",
        "    print(\"Invalid unit\")\n"
      ]
    },
    {
      "cell_type": "code",
      "source": [
        "#use case 1\n",
        "tempconverter(98.6,'C')"
      ],
      "metadata": {
        "colab": {
          "base_uri": "https://localhost:8080/"
        },
        "id": "KCL_D99XKfH9",
        "outputId": "2bc9b9af-b66d-4ad4-ca85-513949d40214"
      },
      "execution_count": 5,
      "outputs": [
        {
          "output_type": "execute_result",
          "data": {
            "text/plain": [
              "37.0"
            ]
          },
          "metadata": {},
          "execution_count": 5
        }
      ]
    },
    {
      "cell_type": "code",
      "source": [
        "#use case 3\n",
        "tempconverter(37,'F')"
      ],
      "metadata": {
        "colab": {
          "base_uri": "https://localhost:8080/"
        },
        "id": "962e7kQZK5-a",
        "outputId": "57f0ef67-31ec-45e2-fa72-f744f5069b5e"
      },
      "execution_count": 6,
      "outputs": [
        {
          "output_type": "execute_result",
          "data": {
            "text/plain": [
              "98.6"
            ]
          },
          "metadata": {},
          "execution_count": 6
        }
      ]
    }
  ]
}