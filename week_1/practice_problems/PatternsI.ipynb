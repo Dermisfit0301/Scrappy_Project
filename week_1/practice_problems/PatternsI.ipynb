{
  "nbformat": 4,
  "nbformat_minor": 0,
  "metadata": {
    "colab": {
      "provenance": []
    },
    "kernelspec": {
      "name": "python3",
      "display_name": "Python 3"
    },
    "language_info": {
      "name": "python"
    }
  },
  "cells": [
    {
      "cell_type": "markdown",
      "source": [
        "**Problem 6: Patterns I**\n",
        "\n",
        "Here we are going to build a right leaning triangle using python loops!\n"
      ],
      "metadata": {
        "id": "2uToQx0AV1cJ"
      }
    },
    {
      "cell_type": "code",
      "execution_count": 8,
      "metadata": {
        "id": "KSK4au2sVwxL"
      },
      "outputs": [],
      "source": [
        "def rightleantriangle(num):\n",
        "  for i in range(num):\n",
        "    for j in range(i+1):\n",
        "      print(\"*\",end=\"\")\n",
        "    print()"
      ]
    },
    {
      "cell_type": "code",
      "source": [
        "#use case 1\n",
        "rightleantriangle(5)"
      ],
      "metadata": {
        "colab": {
          "base_uri": "https://localhost:8080/"
        },
        "id": "YmeShTgsWX9g",
        "outputId": "cbdfa288-856b-4e21-8e99-9dea99a6af1a"
      },
      "execution_count": 9,
      "outputs": [
        {
          "output_type": "stream",
          "name": "stdout",
          "text": [
            "*\n",
            "**\n",
            "***\n",
            "****\n",
            "*****\n"
          ]
        }
      ]
    },
    {
      "cell_type": "code",
      "source": [
        "#use case 2\n",
        "rightleantriangle(10)"
      ],
      "metadata": {
        "colab": {
          "base_uri": "https://localhost:8080/"
        },
        "id": "Nv54klpxXjTE",
        "outputId": "7b8f19b9-5295-4b7b-cf4d-ad2c0690ed62"
      },
      "execution_count": 10,
      "outputs": [
        {
          "output_type": "stream",
          "name": "stdout",
          "text": [
            "*\n",
            "**\n",
            "***\n",
            "****\n",
            "*****\n",
            "******\n",
            "*******\n",
            "********\n",
            "*********\n",
            "**********\n"
          ]
        }
      ]
    }
  ]
}