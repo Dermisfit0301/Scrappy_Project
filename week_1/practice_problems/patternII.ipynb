{
  "nbformat": 4,
  "nbformat_minor": 0,
  "metadata": {
    "colab": {
      "provenance": []
    },
    "kernelspec": {
      "name": "python3",
      "display_name": "Python 3"
    },
    "language_info": {
      "name": "python"
    }
  },
  "cells": [
    {
      "cell_type": "markdown",
      "source": [
        "**Problem 7: Patterns II**\n",
        "\n",
        "Here we will build a left leaning triangle using python loops!"
      ],
      "metadata": {
        "id": "K6wAXdEKYASj"
      }
    },
    {
      "cell_type": "code",
      "execution_count": 44,
      "metadata": {
        "id": "S36-bUNDX7ns"
      },
      "outputs": [],
      "source": [
        "def leftleaningtriangle(num):\n",
        "    for i in range(1, num + 1):\n",
        "        print(\" \" * (num-i) + \"*\" * i)\n",
        "\n",
        "\n"
      ]
    },
    {
      "cell_type": "code",
      "source": [
        "#use case1\n",
        "leftleaningtriangle(7)"
      ],
      "metadata": {
        "colab": {
          "base_uri": "https://localhost:8080/"
        },
        "id": "oarw4L5IZH8A",
        "outputId": "62bad160-aba6-4ee6-bd50-9dd2fedb4578"
      },
      "execution_count": 45,
      "outputs": [
        {
          "output_type": "stream",
          "name": "stdout",
          "text": [
            "      *\n",
            "     **\n",
            "    ***\n",
            "   ****\n",
            "  *****\n",
            " ******\n",
            "*******\n"
          ]
        }
      ]
    },
    {
      "cell_type": "code",
      "source": [
        "#use case2\n",
        "leftleaningtriangle(17)"
      ],
      "metadata": {
        "id": "xaL60tcufwhw",
        "outputId": "8bfb1d55-6f05-4fd3-85d9-852c1540cbb7",
        "colab": {
          "base_uri": "https://localhost:8080/"
        }
      },
      "execution_count": 46,
      "outputs": [
        {
          "output_type": "stream",
          "name": "stdout",
          "text": [
            "                *\n",
            "               **\n",
            "              ***\n",
            "             ****\n",
            "            *****\n",
            "           ******\n",
            "          *******\n",
            "         ********\n",
            "        *********\n",
            "       **********\n",
            "      ***********\n",
            "     ************\n",
            "    *************\n",
            "   **************\n",
            "  ***************\n",
            " ****************\n",
            "*****************\n"
          ]
        }
      ]
    }
  ]
}