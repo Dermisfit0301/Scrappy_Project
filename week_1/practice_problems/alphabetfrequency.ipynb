{
  "cells": [
    {
      "cell_type": "markdown",
      "metadata": {
        "id": "NPnl0SzPo8Fk"
      },
      "source": [
        "**Problem 8: Word Frequency**\n",
        "\n",
        "Here we are going to take a message and count the frequency of each alphabet in it. We will do it with the help of a program that takes a string and makes a dictionary.\n",
        "Note: We will count only alphabets!\n"
      ]
    },
    {
      "cell_type": "code",
      "execution_count": null,
      "metadata": {
        "id": "nFT2i1rPoohL"
      },
      "outputs": [],
      "source": [
        "def alphabetdict(text):\n",
        "  count = {}\n",
        "\n",
        "  for character in text:\n",
        "    if character in ('abcdefghijklmnopqrstuvwxyzABCDEFGHIJKLMNOPQRSTUVWXYZ'):\n",
        "      count.setdefault(character,0)\n",
        "\n",
        "      count[character] += 1\n",
        "  print(count)\n",
        "\n",
        "\n",
        "\n"
      ]
    },
    {
      "cell_type": "code",
      "execution_count": 13,
      "metadata": {
        "colab": {
          "base_uri": "https://localhost:8080/"
        },
        "id": "b-kfKhHSrYDP",
        "outputId": "d2d31f34-3510-4cf5-b208-d579b9bc5370"
      },
      "outputs": [
        {
          "output_type": "stream",
          "name": "stdout",
          "text": [
            "{'W': 1, 'r': 7, 'i': 9, 't': 12, 'e': 7, 'a': 11, 'f': 4, 'u': 4, 'n': 12, 'c': 4, 'o': 4, 'h': 3, 'k': 1, 's': 5, 'g': 2, 'd': 2, 'y': 2, 'l': 1, 'p': 1, 'b': 1, 'q': 1}\n"
          ]
        }
      ],
      "source": [
        "#use case 1\n",
        "text='Write a function that takes in a string as a function and returns a dictionary of alphabet frequency in the string.'\n",
        "alphabetdict(text)"
      ]
    },
    {
      "cell_type": "code",
      "source": [
        "#use case 2\n",
        "text='There are 12 eggs in that basket. What did you say you F$%@er? SEE AGAIN YOU SON OF A .......'\n",
        "alphabetdict(text)"
      ],
      "metadata": {
        "colab": {
          "base_uri": "https://localhost:8080/"
        },
        "id": "a14O6FVmI37W",
        "outputId": "164c1a44-12ec-4e98-ca91-2c5b03f25cae"
      },
      "execution_count": 14,
      "outputs": [
        {
          "output_type": "stream",
          "name": "stdout",
          "text": [
            "{'T': 1, 'h': 3, 'e': 6, 'r': 3, 'a': 5, 'g': 2, 's': 3, 'i': 2, 'n': 1, 't': 4, 'b': 1, 'k': 1, 'W': 1, 'd': 2, 'y': 3, 'o': 2, 'u': 2, 'F': 2, 'S': 2, 'E': 2, 'A': 3, 'G': 1, 'I': 1, 'N': 2, 'Y': 1, 'O': 3, 'U': 1}\n"
          ]
        }
      ]
    }
  ],
  "metadata": {
    "colab": {
      "provenance": []
    },
    "kernelspec": {
      "display_name": "Python 3",
      "name": "python3"
    },
    "language_info": {
      "name": "python"
    }
  },
  "nbformat": 4,
  "nbformat_minor": 0
}